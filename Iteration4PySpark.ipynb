{
 "cells": [
  {
   "cell_type": "code",
   "execution_count": 1,
   "id": "94f4bb04",
   "metadata": {},
   "outputs": [],
   "source": [
    "from pyspark.sql import SparkSession\n",
    "from pyspark.sql.functions import col\n",
    "import matplotlib.pyplot as plt\n",
    "import seaborn as sns"
   ]
  },
  {
   "cell_type": "code",
   "execution_count": 2,
   "id": "55bee81a",
   "metadata": {},
   "outputs": [
    {
     "name": "stderr",
     "output_type": "stream",
     "text": [
      "WARNING: An illegal reflective access operation has occurred\n",
      "WARNING: Illegal reflective access by org.apache.spark.unsafe.Platform (file:/home/ubuntu/.local/lib/python3.10/site-packages/pyspark/jars/spark-unsafe_2.12-3.2.1.jar) to constructor java.nio.DirectByteBuffer(long,int)\n",
      "WARNING: Please consider reporting this to the maintainers of org.apache.spark.unsafe.Platform\n",
      "WARNING: Use --illegal-access=warn to enable warnings of further illegal reflective access operations\n",
      "WARNING: All illegal access operations will be denied in a future release\n",
      "Using Spark's default log4j profile: org/apache/spark/log4j-defaults.properties\n",
      "Setting default log level to \"WARN\".\n",
      "To adjust logging level use sc.setLogLevel(newLevel). For SparkR, use setLogLevel(newLevel).\n",
      "23/09/30 00:15:01 WARN NativeCodeLoader: Unable to load native-hadoop library for your platform... using builtin-java classes where applicable\n"
     ]
    }
   ],
   "source": [
    "spark = SparkSession.builder.appName(\"HeartDataAnalysis\").getOrCreate()"
   ]
  },
  {
   "cell_type": "code",
   "execution_count": 3,
   "id": "ba3ecbe0",
   "metadata": {},
   "outputs": [],
   "source": [
    "file1 = \"heart.csv\"\n",
    "file2 = \"heart2.csv\"\n",
    "df1 = spark.read.csv(file1, header=True, inferSchema=True)\n",
    "df2 = spark.read.csv(file2, header=True, inferSchema=True)"
   ]
  },
  {
   "cell_type": "code",
   "execution_count": 10,
   "id": "d2186621",
   "metadata": {
    "scrolled": true
   },
   "outputs": [
    {
     "name": "stdout",
     "output_type": "stream",
     "text": [
      "Summary statistics of df1:\n",
      "+-------+------------------+----+-------------+------------------+------------------+-------------------+----------+------------------+--------------+------------------+--------+-------------------+\n",
      "|summary|               Age| Sex|ChestPainType|         RestingBP|       Cholesterol|          FastingBS|RestingECG|             MaxHR|ExerciseAngina|           Oldpeak|ST_Slope|       HeartDisease|\n",
      "+-------+------------------+----+-------------+------------------+------------------+-------------------+----------+------------------+--------------+------------------+--------+-------------------+\n",
      "|  count|               918| 918|          918|               918|               918|                918|       918|               918|           918|               918|     918|                918|\n",
      "|   mean|53.510893246187365|null|         null|132.39651416122004| 198.7995642701525|0.23311546840958605|      null|136.80936819172112|          null|0.8873638344226581|    null| 0.5533769063180828|\n",
      "| stddev|  9.43261650673202|null|         null|18.514154119907808|109.38414455220345|0.42304562473930296|      null| 25.46033413825029|          null|1.0665701510493264|    null|0.49741373828459706|\n",
      "|    min|                28|   F|          ASY|                 0|                 0|                  0|       LVH|                60|             N|              -2.6|    Down|                  0|\n",
      "|    max|                77|   M|           TA|               200|               603|                  1|        ST|               202|             Y|               6.2|      Up|                  1|\n",
      "+-------+------------------+----+-------------+------------------+------------------+-------------------+----------+------------------+--------------+------------------+--------+-------------------+\n",
      "\n",
      "root\n",
      " |-- Age: integer (nullable = true)\n",
      " |-- Sex: string (nullable = true)\n",
      " |-- ChestPainType: string (nullable = true)\n",
      " |-- RestingBP: integer (nullable = true)\n",
      " |-- Cholesterol: integer (nullable = true)\n",
      " |-- FastingBS: integer (nullable = true)\n",
      " |-- RestingECG: string (nullable = true)\n",
      " |-- MaxHR: integer (nullable = true)\n",
      " |-- ExerciseAngina: string (nullable = true)\n",
      " |-- Oldpeak: double (nullable = true)\n",
      " |-- ST_Slope: string (nullable = true)\n",
      " |-- HeartDisease: integer (nullable = true)\n",
      "\n",
      "+-------+-----------------+------------------+------------------+------------------+------------------+-------------------+------------------+------------------+------------------+------------------+------------------+-----------------------+------------------+-------------+\n",
      "|summary|              Age|               Sex|   Chest pain type|                BP|       Cholesterol|       FBS over 120|       EKG results|            Max HR|   Exercise angina|     ST depression|       Slope of ST|Number of vessels fluro|          Thallium|Heart Disease|\n",
      "+-------+-----------------+------------------+------------------+------------------+------------------+-------------------+------------------+------------------+------------------+------------------+------------------+-----------------------+------------------+-------------+\n",
      "|  count|              270|               270|               270|               270|               270|                270|               270|               270|               270|               270|               270|                    270|               270|          270|\n",
      "|   mean|54.43333333333333|0.6777777777777778| 3.174074074074074|131.34444444444443|249.65925925925927|0.14814814814814814|1.0222222222222221|149.67777777777778|0.3296296296296296|1.0499999999999996|1.5851851851851853|     0.6703703703703704| 4.696296296296296|         null|\n",
      "| stddev|9.109066523898207|0.4681954071552696|0.9500900339228637|17.861608292800856| 51.68623711643123|0.35590647697073136|0.9978912089661106| 23.16571677512012|0.4709515913013828| 1.145209839377997|0.6143898376781299|     0.9438963834881158|1.9406589693457779|         null|\n",
      "|    min|               29|                 0|                 1|                94|               126|                  0|                 0|                71|                 0|               0.0|                 1|                      0|                 3|      Absence|\n",
      "|    max|               77|                 1|                 4|               200|               564|                  1|                 2|               202|                 1|               6.2|                 3|                      3|                 7|     Presence|\n",
      "+-------+-----------------+------------------+------------------+------------------+------------------+-------------------+------------------+------------------+------------------+------------------+------------------+-----------------------+------------------+-------------+\n",
      "\n",
      "root\n",
      " |-- Age: integer (nullable = true)\n",
      " |-- Sex: integer (nullable = true)\n",
      " |-- Chest pain type: integer (nullable = true)\n",
      " |-- BP: integer (nullable = true)\n",
      " |-- Cholesterol: integer (nullable = true)\n",
      " |-- FBS over 120: integer (nullable = true)\n",
      " |-- EKG results: integer (nullable = true)\n",
      " |-- Max HR: integer (nullable = true)\n",
      " |-- Exercise angina: integer (nullable = true)\n",
      " |-- ST depression: double (nullable = true)\n",
      " |-- Slope of ST: integer (nullable = true)\n",
      " |-- Number of vessels fluro: integer (nullable = true)\n",
      " |-- Thallium: integer (nullable = true)\n",
      " |-- Heart Disease: string (nullable = true)\n",
      "\n"
     ]
    }
   ],
   "source": [
    "df1.describe().show()\n",
    "df1.printSchema()\n",
    "df2.describe().show()\n",
    "df2.printSchema()"
   ]
  },
  {
   "cell_type": "code",
   "execution_count": 11,
   "id": "72671dc3",
   "metadata": {},
   "outputs": [],
   "source": [
    "df2 = df2.withColumnRenamed(\"Chest pain type\", \"ChestPainType\") \\\n",
    "         .withColumnRenamed(\"BP\", \"RestingBP\") \\\n",
    "         .withColumnRenamed(\"FBS over 120\", \"FastingBS\") \\\n",
    "         .withColumnRenamed(\"EKG results\", \"RestingECG\") \\\n",
    "         .withColumnRenamed(\"Exercise angina\", \"ExerciseAngina\") \\\n",
    "         .withColumnRenamed(\"Max HR\", \"MaxHR\") \\\n",
    "         .withColumnRenamed(\"ST depression\", \"Oldpeak\") \\\n",
    "         .withColumnRenamed(\"Slope of ST\", \"ST_Slope\") \\\n",
    "         .withColumnRenamed(\"Heart Disease\", \"HeartDisease\")"
   ]
  },
  {
   "cell_type": "code",
   "execution_count": 12,
   "id": "42c1bde2",
   "metadata": {},
   "outputs": [],
   "source": [
    "df1 = df1.withColumn(\"Sex\", (col(\"Sex\") == \"M\").cast(\"int\"))\n",
    "df1 = df1.withColumn(\"ChestPainType\", col(\"ChestPainType\").cast(\"int\"))\n",
    "df1 = df1.withColumn(\"FastingBS\", col(\"FastingBS\").cast(\"int\"))\n",
    "df1 = df1.withColumn(\"RestingECG\", col(\"RestingECG\").cast(\"int\"))\n",
    "df1 = df1.withColumn(\"ExerciseAngina\", (col(\"ExerciseAngina\") == \"Y\").cast(\"int\"))\n",
    "df1 = df1.withColumn(\"ST_Slope\", col(\"ST_Slope\").cast(\"int\"))\n",
    "df2 = df2.withColumn(\"HeartDisease\", (col(\"HeartDisease\") == \"Presence\").cast(\"int\"))"
   ]
  },
  {
   "cell_type": "code",
   "execution_count": 13,
   "id": "278f4d96",
   "metadata": {},
   "outputs": [],
   "source": [
    "columns_to_drop = [\"Number of vessels fluro\", \"Thallium\"]\n",
    "df2 = df2.drop(*columns_to_drop)"
   ]
  },
  {
   "cell_type": "code",
   "execution_count": 14,
   "id": "6984590f",
   "metadata": {},
   "outputs": [],
   "source": [
    "df_merged = df1.union(df2)\n"
   ]
  },
  {
   "cell_type": "code",
   "execution_count": 15,
   "id": "2bf01114",
   "metadata": {},
   "outputs": [
    {
     "name": "stdout",
     "output_type": "stream",
     "text": [
      "root\n",
      " |-- Age: integer (nullable = true)\n",
      " |-- Sex: integer (nullable = true)\n",
      " |-- ChestPainType: integer (nullable = true)\n",
      " |-- RestingBP: integer (nullable = true)\n",
      " |-- Cholesterol: integer (nullable = true)\n",
      " |-- FastingBS: integer (nullable = true)\n",
      " |-- RestingECG: integer (nullable = true)\n",
      " |-- MaxHR: integer (nullable = true)\n",
      " |-- ExerciseAngina: integer (nullable = true)\n",
      " |-- Oldpeak: double (nullable = true)\n",
      " |-- ST_Slope: integer (nullable = true)\n",
      " |-- HeartDisease: integer (nullable = true)\n",
      "\n",
      "+-------+-----------------+-------------------+------------------+------------------+------------------+-------------------+------------------+------------------+-------------------+------------------+------------------+------------------+\n",
      "|summary|              Age|                Sex|     ChestPainType|         RestingBP|       Cholesterol|          FastingBS|        RestingECG|             MaxHR|     ExerciseAngina|           Oldpeak|          ST_Slope|      HeartDisease|\n",
      "+-------+-----------------+-------------------+------------------+------------------+------------------+-------------------+------------------+------------------+-------------------+------------------+------------------+------------------+\n",
      "|  count|             1188|               1188|               270|              1188|              1188|               1188|               270|              1188|               1188|              1188|               270|              1188|\n",
      "|   mean|53.72053872053872| 0.7643097643097643| 3.174074074074074|132.15740740740742|210.35858585858585| 0.2138047138047138|1.0222222222222221|139.73400673400673| 0.3872053872053872|0.9243265993265992|1.5851851851851853|0.5286195286195287|\n",
      "| stddev|9.364257399440785|0.42460818353568147|0.9500900339228637| 18.36573961450726|101.50556295703767|0.41016322258410143|0.9978912089661106|25.524554907478606|0.48731639826516354|1.0865909223741468|0.6143898376781299|0.4993904760179511|\n",
      "|    min|               28|                  0|                 1|                 0|                 0|                  0|                 0|                60|                  0|              -2.6|                 1|                 0|\n",
      "|    max|               77|                  1|                 4|               200|               603|                  1|                 2|               202|                  1|               6.2|                 3|                 1|\n",
      "+-------+-----------------+-------------------+------------------+------------------+------------------+-------------------+------------------+------------------+-------------------+------------------+------------------+------------------+\n",
      "\n"
     ]
    }
   ],
   "source": [
    "df_merged.printSchema()\n",
    "df_merged.describe().show()"
   ]
  },
  {
   "cell_type": "code",
   "execution_count": 16,
   "id": "56564602",
   "metadata": {},
   "outputs": [
    {
     "name": "stdout",
     "output_type": "stream",
     "text": [
      "+-------+-----------------+-------------------+------------------+------------------+------------------+-------------------+------------------+------------------+-------------------+------------------+------------------+\n",
      "|summary|              Age|                Sex|     ChestPainType|         RestingBP|       Cholesterol|          FastingBS|        RestingECG|             MaxHR|     ExerciseAngina|           Oldpeak|          ST_Slope|\n",
      "+-------+-----------------+-------------------+------------------+------------------+------------------+-------------------+------------------+------------------+-------------------+------------------+------------------+\n",
      "|  count|             1188|               1188|               270|              1188|              1188|               1188|               270|              1188|               1188|              1188|               270|\n",
      "|   mean|53.72053872053872| 0.7643097643097643| 3.174074074074074|132.15740740740742|210.35858585858585| 0.2138047138047138|1.0222222222222221|139.73400673400673| 0.3872053872053872|0.9243265993265992|1.5851851851851853|\n",
      "| stddev|9.364257399440785|0.42460818353568147|0.9500900339228637| 18.36573961450726|101.50556295703767|0.41016322258410143|0.9978912089661106|25.524554907478606|0.48731639826516354|1.0865909223741468|0.6143898376781299|\n",
      "|    min|               28|                  0|                 1|                 0|                 0|                  0|                 0|                60|                  0|              -2.6|                 1|\n",
      "|    max|               77|                  1|                 4|               200|               603|                  1|                 2|               202|                  1|               6.2|                 3|\n",
      "+-------+-----------------+-------------------+------------------+------------------+------------------+-------------------+------------------+------------------+-------------------+------------------+------------------+\n",
      "\n"
     ]
    }
   ],
   "source": [
    "df_merged.select([col for col in df_merged.columns if col != \"HeartDisease\"]).describe().show()"
   ]
  },
  {
   "cell_type": "code",
   "execution_count": 17,
   "id": "b22a04fc",
   "metadata": {},
   "outputs": [
    {
     "data": {
      "text/plain": [
       "1"
      ]
     },
     "execution_count": 17,
     "metadata": {},
     "output_type": "execute_result"
    }
   ],
   "source": [
    "df_merged.filter(df_merged[\"RestingBP\"] == 0).count()\n"
   ]
  },
  {
   "cell_type": "code",
   "execution_count": 19,
   "id": "dded6958",
   "metadata": {},
   "outputs": [
    {
     "name": "stdout",
     "output_type": "stream",
     "text": [
      "+-------+------------------+\n",
      "|summary|       Cholesterol|\n",
      "+-------+------------------+\n",
      "|  count|              1188|\n",
      "|   mean|210.35858585858585|\n",
      "| stddev|101.50556295703767|\n",
      "|    min|                 0|\n",
      "|    max|               603|\n",
      "+-------+------------------+\n",
      "\n"
     ]
    },
    {
     "data": {
      "image/png": "[encoded data removed]",
      "text/plain": [
       "<Figure size 432x288 with 1 Axes>"
      ]
     },
     "metadata": {
      "needs_background": "light"
     },
     "output_type": "display_data"
    },
    {
     "data": {
      "image/png": "[encoded data removed]",
      "text/plain": [
       "<Figure size 432x288 with 1 Axes>"
      ]
     },
     "metadata": {
      "needs_background": "light"
     },
     "output_type": "display_data"
    },
    {
     "data": {
      "image/png": "[encoded data removed]",
      "text/plain": [
       "<Figure size 432x288 with 1 Axes>"
      ]
     },
     "metadata": {
      "needs_background": "light"
     },
     "output_type": "display_data"
    },
    {
     "data": {
      "image/png": "[encoded data removed]",
      "text/plain": [
       "<Figure size 432x288 with 1 Axes>"
      ]
     },
     "metadata": {
      "needs_background": "light"
     },
     "output_type": "display_data"
    },
    {
     "data": {
      "image/png": "[encoded data removed]",
      "text/plain": [
       "<Figure size 432x288 with 1 Axes>"
      ]
     },
     "metadata": {
      "needs_background": "light"
     },
     "output_type": "display_data"
    },
    {
     "data": {
      "image/png": "[encoded data removed]",
      "text/plain": [
       "<Figure size 432x288 with 1 Axes>"
      ]
     },
     "metadata": {},
     "output_type": "display_data"
    }
   ],
   "source": [
    "df_merged.select(\"Age\").toPandas().plot.hist()\n",
    "df_merged.select(\"RestingBP\").toPandas().plot.hist()\n",
    "df_merged.select(\"Cholesterol\").toPandas().plot.hist()\n",
    "df_merged.select(\"MaxHR\").toPandas().plot.hist()\n",
    "df_merged.select(\"Oldpeak\").toPandas().plot.hist(bins=20)\n",
    "df_merged.groupBy(\"HeartDisease\").count().toPandas().plot.pie(y=\"count\", autopct=\"%1.1f%%\")\n",
    "df_merged.select(\"Cholesterol\").describe().show()"
   ]
  },
  {
   "cell_type": "code",
   "execution_count": 20,
   "id": "04f92daa",
   "metadata": {},
   "outputs": [],
   "source": [
    "data = [\n",
    "    df_merged.select(\"Age\").toPandas(),\n",
    "    df_merged.select(\"RestingBP\").toPandas(),\n",
    "    df_merged.select(\"Cholesterol\").toPandas(),\n",
    "    df_merged.select(\"MaxHR\").toPandas(),\n",
    "    df_merged.select(\"Oldpeak\").toPandas()\n",
    "]"
   ]
  },
  {
   "cell_type": "code",
   "execution_count": 22,
   "id": "c18f8adf",
   "metadata": {},
   "outputs": [
    {
     "name": "stdout",
     "output_type": "stream",
     "text": [
      "Columns of df1: ['Age', 'Sex', 'ChestPainType', 'RestingBP', 'Cholesterol', 'FastingBS', 'RestingECG', 'MaxHR', 'ExerciseAngina', 'Oldpeak', 'ST_Slope', 'HeartDisease']\n",
      "Columns of df2: ['Age', 'Sex', 'ChestPainType', 'RestingBP', 'Cholesterol', 'FastingBS', 'RestingECG', 'MaxHR', 'ExerciseAngina', 'Oldpeak', 'ST_Slope', 'HeartDisease']\n"
     ]
    }
   ],
   "source": [
    "print(\"Columns of df1:\", df1.columns)\n",
    "print(\"Columns of df2:\", df2.columns)"
   ]
  },
  {
   "cell_type": "code",
   "execution_count": 23,
   "id": "8c807e00",
   "metadata": {},
   "outputs": [
    {
     "ename": "KeyError",
     "evalue": "'Sex'",
     "output_type": "error",
     "traceback": [
      "\u001b[0;31m---------------------------------------------------------------------------\u001b[0m",
      "\u001b[0;31mKeyError\u001b[0m                                  Traceback (most recent call last)",
      "File \u001b[0;32m~/.local/lib/python3.10/site-packages/pandas/core/indexes/base.py:3621\u001b[0m, in \u001b[0;36mIndex.get_loc\u001b[0;34m(self, key, method, tolerance)\u001b[0m\n\u001b[1;32m   3620\u001b[0m \u001b[38;5;28;01mtry\u001b[39;00m:\n\u001b[0;32m-> 3621\u001b[0m     \u001b[38;5;28;01mreturn\u001b[39;00m \u001b[38;5;28;43mself\u001b[39;49m\u001b[38;5;241;43m.\u001b[39;49m\u001b[43m_engine\u001b[49m\u001b[38;5;241;43m.\u001b[39;49m\u001b[43mget_loc\u001b[49m\u001b[43m(\u001b[49m\u001b[43mcasted_key\u001b[49m\u001b[43m)\u001b[49m\n\u001b[1;32m   3622\u001b[0m \u001b[38;5;28;01mexcept\u001b[39;00m \u001b[38;5;167;01mKeyError\u001b[39;00m \u001b[38;5;28;01mas\u001b[39;00m err:\n",
      "File \u001b[0;32m~/.local/lib/python3.10/site-packages/pandas/_libs/index.pyx:136\u001b[0m, in \u001b[0;36mpandas._libs.index.IndexEngine.get_loc\u001b[0;34m()\u001b[0m\n",
      "File \u001b[0;32m~/.local/lib/python3.10/site-packages/pandas/_libs/index.pyx:163\u001b[0m, in \u001b[0;36mpandas._libs.index.IndexEngine.get_loc\u001b[0;34m()\u001b[0m\n",
      "File \u001b[0;32mpandas/_libs/hashtable_class_helper.pxi:5198\u001b[0m, in \u001b[0;36mpandas._libs.hashtable.PyObjectHashTable.get_item\u001b[0;34m()\u001b[0m\n",
      "File \u001b[0;32mpandas/_libs/hashtable_class_helper.pxi:5206\u001b[0m, in \u001b[0;36mpandas._libs.hashtable.PyObjectHashTable.get_item\u001b[0;34m()\u001b[0m\n",
      "\u001b[0;31mKeyError\u001b[0m: 'Sex'",
      "\nThe above exception was the direct cause of the following exception:\n",
      "\u001b[0;31mKeyError\u001b[0m                                  Traceback (most recent call last)",
      "Input \u001b[0;32mIn [23]\u001b[0m, in \u001b[0;36m<cell line: 3>\u001b[0;34m()\u001b[0m\n\u001b[1;32m      4\u001b[0m     \u001b[38;5;28;01mif\u001b[39;00m col_name \u001b[38;5;241m!=\u001b[39m \u001b[38;5;124m\"\u001b[39m\u001b[38;5;124mHeartDisease\u001b[39m\u001b[38;5;124m\"\u001b[39m:\n\u001b[1;32m      5\u001b[0m         plt\u001b[38;5;241m.\u001b[39msubplot(\u001b[38;5;241m2\u001b[39m, \u001b[38;5;241m3\u001b[39m, i \u001b[38;5;241m+\u001b[39m \u001b[38;5;241m1\u001b[39m)\n\u001b[0;32m----> 6\u001b[0m         sns\u001b[38;5;241m.\u001b[39mboxplot(y\u001b[38;5;241m=\u001b[39m\u001b[43mdata\u001b[49m\u001b[43m[\u001b[49m\u001b[43mi\u001b[49m\u001b[43m]\u001b[49m\u001b[43m[\u001b[49m\u001b[43mcol_name\u001b[49m\u001b[43m]\u001b[49m, orient\u001b[38;5;241m=\u001b[39m\u001b[38;5;124m'\u001b[39m\u001b[38;5;124mvertical\u001b[39m\u001b[38;5;124m'\u001b[39m)\n\u001b[1;32m      7\u001b[0m         plt\u001b[38;5;241m.\u001b[39mtitle(col_name)\n\u001b[1;32m      9\u001b[0m plt\u001b[38;5;241m.\u001b[39mshow()\n",
      "File \u001b[0;32m~/.local/lib/python3.10/site-packages/pandas/core/frame.py:3505\u001b[0m, in \u001b[0;36mDataFrame.__getitem__\u001b[0;34m(self, key)\u001b[0m\n\u001b[1;32m   3503\u001b[0m \u001b[38;5;28;01mif\u001b[39;00m \u001b[38;5;28mself\u001b[39m\u001b[38;5;241m.\u001b[39mcolumns\u001b[38;5;241m.\u001b[39mnlevels \u001b[38;5;241m>\u001b[39m \u001b[38;5;241m1\u001b[39m:\n\u001b[1;32m   3504\u001b[0m     \u001b[38;5;28;01mreturn\u001b[39;00m \u001b[38;5;28mself\u001b[39m\u001b[38;5;241m.\u001b[39m_getitem_multilevel(key)\n\u001b[0;32m-> 3505\u001b[0m indexer \u001b[38;5;241m=\u001b[39m \u001b[38;5;28;43mself\u001b[39;49m\u001b[38;5;241;43m.\u001b[39;49m\u001b[43mcolumns\u001b[49m\u001b[38;5;241;43m.\u001b[39;49m\u001b[43mget_loc\u001b[49m\u001b[43m(\u001b[49m\u001b[43mkey\u001b[49m\u001b[43m)\u001b[49m\n\u001b[1;32m   3506\u001b[0m \u001b[38;5;28;01mif\u001b[39;00m is_integer(indexer):\n\u001b[1;32m   3507\u001b[0m     indexer \u001b[38;5;241m=\u001b[39m [indexer]\n",
      "File \u001b[0;32m~/.local/lib/python3.10/site-packages/pandas/core/indexes/base.py:3623\u001b[0m, in \u001b[0;36mIndex.get_loc\u001b[0;34m(self, key, method, tolerance)\u001b[0m\n\u001b[1;32m   3621\u001b[0m     \u001b[38;5;28;01mreturn\u001b[39;00m \u001b[38;5;28mself\u001b[39m\u001b[38;5;241m.\u001b[39m_engine\u001b[38;5;241m.\u001b[39mget_loc(casted_key)\n\u001b[1;32m   3622\u001b[0m \u001b[38;5;28;01mexcept\u001b[39;00m \u001b[38;5;167;01mKeyError\u001b[39;00m \u001b[38;5;28;01mas\u001b[39;00m err:\n\u001b[0;32m-> 3623\u001b[0m     \u001b[38;5;28;01mraise\u001b[39;00m \u001b[38;5;167;01mKeyError\u001b[39;00m(key) \u001b[38;5;28;01mfrom\u001b[39;00m \u001b[38;5;21;01merr\u001b[39;00m\n\u001b[1;32m   3624\u001b[0m \u001b[38;5;28;01mexcept\u001b[39;00m \u001b[38;5;167;01mTypeError\u001b[39;00m:\n\u001b[1;32m   3625\u001b[0m     \u001b[38;5;66;03m# If we have a listlike key, _check_indexing_error will raise\u001b[39;00m\n\u001b[1;32m   3626\u001b[0m     \u001b[38;5;66;03m#  InvalidIndexError. Otherwise we fall through and re-raise\u001b[39;00m\n\u001b[1;32m   3627\u001b[0m     \u001b[38;5;66;03m#  the TypeError.\u001b[39;00m\n\u001b[1;32m   3628\u001b[0m     \u001b[38;5;28mself\u001b[39m\u001b[38;5;241m.\u001b[39m_check_indexing_error(key)\n",
      "\u001b[0;31mKeyError\u001b[0m: 'Sex'"
     ]
    },
    {
     "data": {
      "image/png": "[encoded data removed]",
      "text/plain": [
       "<Figure size 1080x720 with 2 Axes>"
      ]
     },
     "metadata": {
      "needs_background": "light"
     },
     "output_type": "display_data"
    }
   ],
   "source": [
    "plt.figure(figsize=(15, 10))\n",
    "\n",
    "for i, col_name in enumerate(df_merged.columns):\n",
    "    if col_name != \"HeartDisease\":\n",
    "        plt.subplot(2, 3, i + 1)\n",
    "        sns.boxplot(y=data[i][col_name], orient='vertical')\n",
    "        plt.title(col_name)\n",
    "\n",
    "plt.show()"
   ]
  },
  {
   "cell_type": "code",
   "execution_count": null,
   "id": "683f5f65",
   "metadata": {},
   "outputs": [],
   "source": []
  }
 ],
 "metadata": {
  "kernelspec": {
   "display_name": "Python 3 (ipykernel)",
   "language": "python",
   "name": "python3"
  },
  "language_info": {
   "codemirror_mode": {
    "name": "ipython",
    "version": 3
   },
   "file_extension": ".py",
   "mimetype": "text/x-python",
   "name": "python",
   "nbconvert_exporter": "python",
   "pygments_lexer": "ipython3",
   "version": "3.10.4"
  }
 },
 "nbformat": 4,
 "nbformat_minor": 5
}
