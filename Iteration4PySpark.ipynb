{
 "cells": [
  {
   "cell_type": "code",
   "execution_count": 1,
   "id": "94f4bb04",
   "metadata": {},
   "outputs": [],
   "source": [
    "from pyspark.sql import SparkSession\n",
    "from pyspark.sql.functions import col\n",
    "from pyspark.sql import functions as F\n",
    "import matplotlib.pyplot as plt\n",
    "import seaborn as sns"
   ]
  },
  {
   "cell_type": "code",
   "execution_count": 2,
   "id": "55bee81a",
   "metadata": {},
   "outputs": [
    {
     "name": "stderr",
     "output_type": "stream",
     "text": [
      "WARNING: An illegal reflective access operation has occurred\n",
      "WARNING: Illegal reflective access by org.apache.spark.unsafe.Platform (file:/home/ubuntu/.local/lib/python3.10/site-packages/pyspark/jars/spark-unsafe_2.12-3.2.1.jar) to constructor java.nio.DirectByteBuffer(long,int)\n",
      "WARNING: Please consider reporting this to the maintainers of org.apache.spark.unsafe.Platform\n",
      "WARNING: Use --illegal-access=warn to enable warnings of further illegal reflective access operations\n",
      "WARNING: All illegal access operations will be denied in a future release\n",
      "Using Spark's default log4j profile: org/apache/spark/log4j-defaults.properties\n",
      "Setting default log level to \"WARN\".\n",
      "To adjust logging level use sc.setLogLevel(newLevel). For SparkR, use setLogLevel(newLevel).\n",
      "23/10/06 20:57:02 WARN NativeCodeLoader: Unable to load native-hadoop library for your platform... using builtin-java classes where applicable\n"
     ]
    }
   ],
   "source": [
    "spark = SparkSession.builder.appName(\"HeartDataAnalysis\").getOrCreate()"
   ]
  },
  {
   "cell_type": "code",
   "execution_count": 3,
   "id": "ba3ecbe0",
   "metadata": {},
   "outputs": [
    {
     "name": "stderr",
     "output_type": "stream",
     "text": [
      "\r",
      "[Stage 0:>                                                          (0 + 1) / 1]\r",
      "\r",
      "                                                                                \r"
     ]
    }
   ],
   "source": [
    "file1 = \"heart.csv\"\n",
    "file2 = \"heart2.csv\"\n",
    "df1 = spark.read.csv(file1, header=True, inferSchema=True)\n",
    "df2 = spark.read.csv(file2, header=True, inferSchema=True)"
   ]
  },
  {
   "cell_type": "code",
   "execution_count": 4,
   "id": "d2186621",
   "metadata": {
    "scrolled": false
   },
   "outputs": [
    {
     "name": "stdout",
     "output_type": "stream",
     "text": [
      "+---+---+-------------+---------+-----------+---------+----------+-----+--------------+-------+--------+------------+\n",
      "|Age|Sex|ChestPainType|RestingBP|Cholesterol|FastingBS|RestingECG|MaxHR|ExerciseAngina|Oldpeak|ST_Slope|HeartDisease|\n",
      "+---+---+-------------+---------+-----------+---------+----------+-----+--------------+-------+--------+------------+\n",
      "| 40|  M|          ATA|      140|        289|        0|    Normal|  172|             N|    0.0|      Up|           0|\n",
      "| 49|  F|          NAP|      160|        180|        0|    Normal|  156|             N|    1.0|    Flat|           1|\n",
      "| 37|  M|          ATA|      130|        283|        0|        ST|   98|             N|    0.0|      Up|           0|\n",
      "| 48|  F|          ASY|      138|        214|        0|    Normal|  108|             Y|    1.5|    Flat|           1|\n",
      "| 54|  M|          NAP|      150|        195|        0|    Normal|  122|             N|    0.0|      Up|           0|\n",
      "| 39|  M|          NAP|      120|        339|        0|    Normal|  170|             N|    0.0|      Up|           0|\n",
      "| 45|  F|          ATA|      130|        237|        0|    Normal|  170|             N|    0.0|      Up|           0|\n",
      "| 54|  M|          ATA|      110|        208|        0|    Normal|  142|             N|    0.0|      Up|           0|\n",
      "| 37|  M|          ASY|      140|        207|        0|    Normal|  130|             Y|    1.5|    Flat|           1|\n",
      "| 48|  F|          ATA|      120|        284|        0|    Normal|  120|             N|    0.0|      Up|           0|\n",
      "| 37|  F|          NAP|      130|        211|        0|    Normal|  142|             N|    0.0|      Up|           0|\n",
      "| 58|  M|          ATA|      136|        164|        0|        ST|   99|             Y|    2.0|    Flat|           1|\n",
      "| 39|  M|          ATA|      120|        204|        0|    Normal|  145|             N|    0.0|      Up|           0|\n",
      "| 49|  M|          ASY|      140|        234|        0|    Normal|  140|             Y|    1.0|    Flat|           1|\n",
      "| 42|  F|          NAP|      115|        211|        0|        ST|  137|             N|    0.0|      Up|           0|\n",
      "| 54|  F|          ATA|      120|        273|        0|    Normal|  150|             N|    1.5|    Flat|           0|\n",
      "| 38|  M|          ASY|      110|        196|        0|    Normal|  166|             N|    0.0|    Flat|           1|\n",
      "| 43|  F|          ATA|      120|        201|        0|    Normal|  165|             N|    0.0|      Up|           0|\n",
      "| 60|  M|          ASY|      100|        248|        0|    Normal|  125|             N|    1.0|    Flat|           1|\n",
      "| 36|  M|          ATA|      120|        267|        0|    Normal|  160|             N|    3.0|    Flat|           1|\n",
      "+---+---+-------------+---------+-----------+---------+----------+-----+--------------+-------+--------+------------+\n",
      "only showing top 20 rows\n",
      "\n"
     ]
    },
    {
     "data": {
      "text/plain": [
       "['Age',\n",
       " 'Sex',\n",
       " 'ChestPainType',\n",
       " 'RestingBP',\n",
       " 'Cholesterol',\n",
       " 'FastingBS',\n",
       " 'RestingECG',\n",
       " 'MaxHR',\n",
       " 'ExerciseAngina',\n",
       " 'Oldpeak',\n",
       " 'ST_Slope',\n",
       " 'HeartDisease']"
      ]
     },
     "execution_count": 4,
     "metadata": {},
     "output_type": "execute_result"
    }
   ],
   "source": [
    "df1.show()\n",
    "df1.columns\n"
   ]
  },
  {
   "cell_type": "code",
   "execution_count": 5,
   "id": "b7048f60",
   "metadata": {
    "scrolled": true
   },
   "outputs": [
    {
     "name": "stdout",
     "output_type": "stream",
     "text": [
      "+---+---+---------------+---+-----------+------------+-----------+------+---------------+-------------+-----------+-----------------------+--------+-------------+\n",
      "|Age|Sex|Chest pain type| BP|Cholesterol|FBS over 120|EKG results|Max HR|Exercise angina|ST depression|Slope of ST|Number of vessels fluro|Thallium|Heart Disease|\n",
      "+---+---+---------------+---+-----------+------------+-----------+------+---------------+-------------+-----------+-----------------------+--------+-------------+\n",
      "| 70|  1|              4|130|        322|           0|          2|   109|              0|          2.4|          2|                      3|       3|     Presence|\n",
      "| 67|  0|              3|115|        564|           0|          2|   160|              0|          1.6|          2|                      0|       7|      Absence|\n",
      "| 57|  1|              2|124|        261|           0|          0|   141|              0|          0.3|          1|                      0|       7|     Presence|\n",
      "| 64|  1|              4|128|        263|           0|          0|   105|              1|          0.2|          2|                      1|       7|      Absence|\n",
      "| 74|  0|              2|120|        269|           0|          2|   121|              1|          0.2|          1|                      1|       3|      Absence|\n",
      "| 65|  1|              4|120|        177|           0|          0|   140|              0|          0.4|          1|                      0|       7|      Absence|\n",
      "| 56|  1|              3|130|        256|           1|          2|   142|              1|          0.6|          2|                      1|       6|     Presence|\n",
      "| 59|  1|              4|110|        239|           0|          2|   142|              1|          1.2|          2|                      1|       7|     Presence|\n",
      "| 60|  1|              4|140|        293|           0|          2|   170|              0|          1.2|          2|                      2|       7|     Presence|\n",
      "| 63|  0|              4|150|        407|           0|          2|   154|              0|          4.0|          2|                      3|       7|     Presence|\n",
      "| 59|  1|              4|135|        234|           0|          0|   161|              0|          0.5|          2|                      0|       7|      Absence|\n",
      "| 53|  1|              4|142|        226|           0|          2|   111|              1|          0.0|          1|                      0|       7|      Absence|\n",
      "| 44|  1|              3|140|        235|           0|          2|   180|              0|          0.0|          1|                      0|       3|      Absence|\n",
      "| 61|  1|              1|134|        234|           0|          0|   145|              0|          2.6|          2|                      2|       3|     Presence|\n",
      "| 57|  0|              4|128|        303|           0|          2|   159|              0|          0.0|          1|                      1|       3|      Absence|\n",
      "| 71|  0|              4|112|        149|           0|          0|   125|              0|          1.6|          2|                      0|       3|      Absence|\n",
      "| 46|  1|              4|140|        311|           0|          0|   120|              1|          1.8|          2|                      2|       7|     Presence|\n",
      "| 53|  1|              4|140|        203|           1|          2|   155|              1|          3.1|          3|                      0|       7|     Presence|\n",
      "| 64|  1|              1|110|        211|           0|          2|   144|              1|          1.8|          2|                      0|       3|      Absence|\n",
      "| 40|  1|              1|140|        199|           0|          0|   178|              1|          1.4|          1|                      0|       7|      Absence|\n",
      "+---+---+---------------+---+-----------+------------+-----------+------+---------------+-------------+-----------+-----------------------+--------+-------------+\n",
      "only showing top 20 rows\n",
      "\n"
     ]
    },
    {
     "data": {
      "text/plain": [
       "['Age',\n",
       " 'Sex',\n",
       " 'Chest pain type',\n",
       " 'BP',\n",
       " 'Cholesterol',\n",
       " 'FBS over 120',\n",
       " 'EKG results',\n",
       " 'Max HR',\n",
       " 'Exercise angina',\n",
       " 'ST depression',\n",
       " 'Slope of ST',\n",
       " 'Number of vessels fluro',\n",
       " 'Thallium',\n",
       " 'Heart Disease']"
      ]
     },
     "execution_count": 5,
     "metadata": {},
     "output_type": "execute_result"
    }
   ],
   "source": [
    "df2.show()\n",
    "df2.columns\n"
   ]
  },
  {
   "cell_type": "code",
   "execution_count": 6,
   "id": "72671dc3",
   "metadata": {},
   "outputs": [],
   "source": [
    "df2 = df2.withColumnRenamed(\"Chest pain type\", \"ChestPainType\") \\\n",
    "         .withColumnRenamed(\"BP\", \"RestingBP\") \\\n",
    "         .withColumnRenamed(\"FBS over 120\", \"FastingBS\") \\\n",
    "         .withColumnRenamed(\"EKG results\", \"RestingECG\") \\\n",
    "         .withColumnRenamed(\"Exercise angina\", \"ExerciseAngina\") \\\n",
    "         .withColumnRenamed(\"Max HR\", \"MaxHR\") \\\n",
    "         .withColumnRenamed(\"ST depression\", \"Oldpeak\") \\\n",
    "         .withColumnRenamed(\"Slope of ST\", \"ST_Slope\") \\\n",
    "         .withColumnRenamed(\"Heart Disease\", \"HeartDisease\")"
   ]
  },
  {
   "cell_type": "code",
   "execution_count": 7,
   "id": "42c1bde2",
   "metadata": {},
   "outputs": [],
   "source": [
    "df1 = df1.withColumn(\"Sex\", F.when(F.col(\"Sex\") == \"M\", 1).otherwise(0))\n",
    "\n",
    "df1 = df1.withColumn(\"ChestPainType\", \n",
    "                     F.when(F.col(\"ChestPainType\") == \"TA\", 1)\n",
    "                     .when(F.col(\"ChestPainType\") == \"ATA\", 2)\n",
    "                     .when(F.col(\"ChestPainType\") == \"NAP\", 3)\n",
    "                     .otherwise(4))\n",
    "\n",
    "df1 = df1.withColumn(\"FastingBS\", F.when(F.col(\"FastingBS\") == 1, 1).otherwise(0))\n",
    "\n",
    "df1 = df1.withColumn(\"RestingECG\", \n",
    "                     F.when(F.col(\"RestingECG\") == \"Normal\", 0)\n",
    "                     .when(F.col(\"RestingECG\") == \"ST\", 1)\n",
    "                     .otherwise(2))\n",
    "\n",
    "df1 = df1.withColumn(\"ExerciseAngina\", F.when(F.col(\"ExerciseAngina\") == \"Y\", 1).otherwise(0))\n",
    "\n",
    "df1 = df1.withColumn(\"ST_Slope\", \n",
    "                     F.when(F.col(\"ST_Slope\") == \"Up\", 1)\n",
    "                     .when(F.col(\"ST_Slope\") == \"Flat\", 2)\n",
    "                     .otherwise(3))\n",
    "\n",
    "df2 = df2.withColumn(\"HeartDisease\", \n",
    "                     F.when(F.col(\"HeartDisease\") == \"Absence\", 0)\n",
    "                     .otherwise(1))"
   ]
  },
  {
   "cell_type": "code",
   "execution_count": 8,
   "id": "278f4d96",
   "metadata": {},
   "outputs": [],
   "source": [
    "columns_to_drop = [\"Number of vessels fluro\", \"Thallium\"]\n",
    "df2 = df2.drop(*columns_to_drop)"
   ]
  },
  {
   "cell_type": "code",
   "execution_count": 9,
   "id": "6984590f",
   "metadata": {},
   "outputs": [],
   "source": [
    "df_merged = df1.union(df2)\n"
   ]
  },
  {
   "cell_type": "code",
   "execution_count": 10,
   "id": "2bf01114",
   "metadata": {},
   "outputs": [
    {
     "name": "stdout",
     "output_type": "stream",
     "text": [
      "+---+---+-------------+---------+-----------+---------+----------+-----+--------------+-------+--------+------------+\n",
      "|Age|Sex|ChestPainType|RestingBP|Cholesterol|FastingBS|RestingECG|MaxHR|ExerciseAngina|Oldpeak|ST_Slope|HeartDisease|\n",
      "+---+---+-------------+---------+-----------+---------+----------+-----+--------------+-------+--------+------------+\n",
      "| 40|  1|            2|      140|        289|        0|         0|  172|             0|    0.0|       1|           0|\n",
      "| 49|  0|            3|      160|        180|        0|         0|  156|             0|    1.0|       2|           1|\n",
      "| 37|  1|            2|      130|        283|        0|         1|   98|             0|    0.0|       1|           0|\n",
      "| 48|  0|            4|      138|        214|        0|         0|  108|             1|    1.5|       2|           1|\n",
      "| 54|  1|            3|      150|        195|        0|         0|  122|             0|    0.0|       1|           0|\n",
      "| 39|  1|            3|      120|        339|        0|         0|  170|             0|    0.0|       1|           0|\n",
      "| 45|  0|            2|      130|        237|        0|         0|  170|             0|    0.0|       1|           0|\n",
      "| 54|  1|            2|      110|        208|        0|         0|  142|             0|    0.0|       1|           0|\n",
      "| 37|  1|            4|      140|        207|        0|         0|  130|             1|    1.5|       2|           1|\n",
      "| 48|  0|            2|      120|        284|        0|         0|  120|             0|    0.0|       1|           0|\n",
      "| 37|  0|            3|      130|        211|        0|         0|  142|             0|    0.0|       1|           0|\n",
      "| 58|  1|            2|      136|        164|        0|         1|   99|             1|    2.0|       2|           1|\n",
      "| 39|  1|            2|      120|        204|        0|         0|  145|             0|    0.0|       1|           0|\n",
      "| 49|  1|            4|      140|        234|        0|         0|  140|             1|    1.0|       2|           1|\n",
      "| 42|  0|            3|      115|        211|        0|         1|  137|             0|    0.0|       1|           0|\n",
      "| 54|  0|            2|      120|        273|        0|         0|  150|             0|    1.5|       2|           0|\n",
      "| 38|  1|            4|      110|        196|        0|         0|  166|             0|    0.0|       2|           1|\n",
      "| 43|  0|            2|      120|        201|        0|         0|  165|             0|    0.0|       1|           0|\n",
      "| 60|  1|            4|      100|        248|        0|         0|  125|             0|    1.0|       2|           1|\n",
      "| 36|  1|            2|      120|        267|        0|         0|  160|             0|    3.0|       2|           1|\n",
      "+---+---+-------------+---------+-----------+---------+----------+-----+--------------+-------+--------+------------+\n",
      "only showing top 20 rows\n",
      "\n",
      "root\n",
      " |-- Age: integer (nullable = true)\n",
      " |-- Sex: integer (nullable = true)\n",
      " |-- ChestPainType: integer (nullable = true)\n",
      " |-- RestingBP: integer (nullable = true)\n",
      " |-- Cholesterol: integer (nullable = true)\n",
      " |-- FastingBS: integer (nullable = true)\n",
      " |-- RestingECG: integer (nullable = true)\n",
      " |-- MaxHR: integer (nullable = true)\n",
      " |-- ExerciseAngina: integer (nullable = true)\n",
      " |-- Oldpeak: double (nullable = true)\n",
      " |-- ST_Slope: integer (nullable = true)\n",
      " |-- HeartDisease: integer (nullable = true)\n",
      "\n"
     ]
    }
   ],
   "source": [
    "df_merged.show()\n",
    "df_merged.printSchema()\n"
   ]
  },
  {
   "cell_type": "code",
   "execution_count": 11,
   "id": "789723f1",
   "metadata": {},
   "outputs": [
    {
     "name": "stdout",
     "output_type": "stream",
     "text": [
      "root\n",
      " |-- Age: integer (nullable = true)\n",
      " |-- Sex: integer (nullable = true)\n",
      " |-- ChestPainType: integer (nullable = true)\n",
      " |-- RestingBP: integer (nullable = true)\n",
      " |-- Cholesterol: integer (nullable = true)\n",
      " |-- FastingBS: integer (nullable = true)\n",
      " |-- RestingECG: integer (nullable = true)\n",
      " |-- MaxHR: integer (nullable = true)\n",
      " |-- ExerciseAngina: integer (nullable = true)\n",
      " |-- Oldpeak: double (nullable = true)\n",
      " |-- ST_Slope: integer (nullable = true)\n",
      " |-- HeartDisease: integer (nullable = true)\n",
      "\n"
     ]
    }
   ],
   "source": [
    "df_merged.printSchema()"
   ]
  },
  {
   "cell_type": "code",
   "execution_count": 12,
   "id": "b22a04fc",
   "metadata": {},
   "outputs": [
    {
     "data": {
      "text/plain": [
       "1"
      ]
     },
     "execution_count": 12,
     "metadata": {},
     "output_type": "execute_result"
    }
   ],
   "source": [
    "df_merged.filter(df_merged[\"RestingBP\"] == 0).count()\n"
   ]
  },
  {
   "cell_type": "code",
   "execution_count": 13,
   "id": "dded6958",
   "metadata": {
    "scrolled": true
   },
   "outputs": [
    {
     "name": "stdout",
     "output_type": "stream",
     "text": [
      "+-------+------------------+\n",
      "|summary|       Cholesterol|\n",
      "+-------+------------------+\n",
      "|  count|              1188|\n",
      "|   mean|210.35858585858585|\n",
      "| stddev|101.50556295703767|\n",
      "|    min|                 0|\n",
      "|    max|               603|\n",
      "+-------+------------------+\n",
      "\n"
     ]
    },
    {
     "data": {
      "image/png": "[encoded data removed]",
      "text/plain": [
       "<Figure size 432x288 with 1 Axes>"
      ]
     },
     "metadata": {
      "needs_background": "light"
     },
     "output_type": "display_data"
    },
    {
     "data": {
      "image/png": "[encoded data removed]",
      "text/plain": [
       "<Figure size 432x288 with 1 Axes>"
      ]
     },
     "metadata": {
      "needs_background": "light"
     },
     "output_type": "display_data"
    },
    {
     "data": {
      "image/png": "[encoded data removed]",
      "text/plain": [
       "<Figure size 432x288 with 1 Axes>"
      ]
     },
     "metadata": {
      "needs_background": "light"
     },
     "output_type": "display_data"
    },
    {
     "data": {
      "image/png": "[encoded data removed]",
      "text/plain": [
       "<Figure size 432x288 with 1 Axes>"
      ]
     },
     "metadata": {
      "needs_background": "light"
     },
     "output_type": "display_data"
    },
    {
     "data": {
      "image/png": "[encoded data removed]",
      "text/plain": [
       "<Figure size 432x288 with 1 Axes>"
      ]
     },
     "metadata": {
      "needs_background": "light"
     },
     "output_type": "display_data"
    },
    {
     "data": {
      "image/png": "[encoded data removed]",
      "text/plain": [
       "<Figure size 432x288 with 1 Axes>"
      ]
     },
     "metadata": {},
     "output_type": "display_data"
    }
   ],
   "source": [
    "df_merged.select(\"Age\").toPandas().plot.hist()\n",
    "df_merged.select(\"RestingBP\").toPandas().plot.hist()\n",
    "df_merged.select(\"Cholesterol\").toPandas().plot.hist()\n",
    "df_merged.select(\"MaxHR\").toPandas().plot.hist()\n",
    "df_merged.select(\"Oldpeak\").toPandas().plot.hist(bins=20)\n",
    "df_merged.groupBy(\"HeartDisease\").count().toPandas().plot.pie(y=\"count\", autopct=\"%1.1f%%\")\n",
    "df_merged.select(\"Cholesterol\").describe().show()"
   ]
  },
  {
   "cell_type": "code",
   "execution_count": 14,
   "id": "19338f65",
   "metadata": {},
   "outputs": [
    {
     "name": "stdout",
     "output_type": "stream",
     "text": [
      "+---+---+-------------+---------+-----------+---------+----------+-----+--------------+-------+--------+------------+\n",
      "|Age|Sex|ChestPainType|RestingBP|Cholesterol|FastingBS|RestingECG|MaxHR|ExerciseAngina|Oldpeak|ST_Slope|HeartDisease|\n",
      "+---+---+-------------+---------+-----------+---------+----------+-----+--------------+-------+--------+------------+\n",
      "|  0|  0|            0|        0|          0|        0|         0|    0|             0|      0|       0|           0|\n",
      "+---+---+-------------+---------+-----------+---------+----------+-----+--------------+-------+--------+------------+\n",
      "\n"
     ]
    }
   ],
   "source": [
    "null_counts = df_merged.select([F.sum(F.when(F.col(c).isNull(), 1).otherwise(0)).alias(c) for c in df_merged.columns])\n",
    "null_counts.show()"
   ]
  },
  {
   "cell_type": "code",
   "execution_count": 15,
   "id": "efa1edf3",
   "metadata": {
    "scrolled": true
   },
   "outputs": [
    {
     "data": {
      "text/plain": [
       "<AxesSubplot:>"
      ]
     },
     "execution_count": 15,
     "metadata": {},
     "output_type": "execute_result"
    },
    {
     "data": {
      "image/png": "[encoded data removed]",
      "text/plain": [
       "<Figure size 432x288 with 1 Axes>"
      ]
     },
     "metadata": {
      "needs_background": "light"
     },
     "output_type": "display_data"
    },
    {
     "data": {
      "image/png": "[encoded data removed]",
      "text/plain": [
       "<Figure size 432x288 with 1 Axes>"
      ]
     },
     "metadata": {
      "needs_background": "light"
     },
     "output_type": "display_data"
    },
    {
     "data": {
      "image/png": "[encoded data removed]",
      "text/plain": [
       "<Figure size 432x288 with 1 Axes>"
      ]
     },
     "metadata": {
      "needs_background": "light"
     },
     "output_type": "display_data"
    },
    {
     "data": {
      "image/png": "[encoded data removed]",
      "text/plain": [
       "<Figure size 432x288 with 1 Axes>"
      ]
     },
     "metadata": {
      "needs_background": "light"
     },
     "output_type": "display_data"
    },
    {
     "data": {
      "image/png": "[encoded data removed]",
      "text/plain": [
       "<Figure size 432x288 with 1 Axes>"
      ]
     },
     "metadata": {
      "needs_background": "light"
     },
     "output_type": "display_data"
    }
   ],
   "source": [
    "df_merged.select(\"Age\").toPandas().plot.box()\n",
    "df_merged.select(\"RestingBP\").toPandas().plot.box()\n",
    "df_merged.select(\"Cholesterol\").toPandas().plot.box()\n",
    "df_merged.select(\"MaxHR\").toPandas().plot.box()\n",
    "df_merged.select(\"Oldpeak\").toPandas().plot.box()"
   ]
  },
  {
   "cell_type": "code",
   "execution_count": 16,
   "id": "839398ae",
   "metadata": {},
   "outputs": [
    {
     "data": {
      "text/plain": [
       "0"
      ]
     },
     "execution_count": 16,
     "metadata": {},
     "output_type": "execute_result"
    }
   ],
   "source": [
    "df_filtered = df_merged.filter(df_merged['RestingBP'] != 0)\n",
    "df_filtered.filter(df_merged[\"RestingBP\"] == 0).count()"
   ]
  },
  {
   "cell_type": "code",
   "execution_count": 17,
   "id": "c50a3461",
   "metadata": {},
   "outputs": [
    {
     "data": {
      "text/plain": [
       "240.0"
      ]
     },
     "execution_count": 17,
     "metadata": {},
     "output_type": "execute_result"
    }
   ],
   "source": [
    "non_zero_cholesterol = df_filtered.filter(df_filtered['Cholesterol'] != 0)\n",
    "chol_median = non_zero_cholesterol.approxQuantile(col='Cholesterol',probabilities=[0.5,],relativeError=0)\n",
    "chol_median[0]"
   ]
  },
  {
   "cell_type": "code",
   "execution_count": 18,
   "id": "49490f47",
   "metadata": {},
   "outputs": [],
   "source": [
    "from pyspark.sql.functions import when\n",
    "df_filtered = df_filtered.withColumn('Cholesterol', when(df_filtered['Cholesterol'] == 0, chol_median[0]).otherwise(df_filtered['Cholesterol']))"
   ]
  },
  {
   "cell_type": "code",
   "execution_count": 19,
   "id": "0124a975",
   "metadata": {},
   "outputs": [
    {
     "data": {
      "text/plain": [
       "<AxesSubplot:ylabel='Frequency'>"
      ]
     },
     "execution_count": 19,
     "metadata": {},
     "output_type": "execute_result"
    },
    {
     "data": {
      "image/png": "[encoded data removed]",
      "text/plain": [
       "<Figure size 432x288 with 1 Axes>"
      ]
     },
     "metadata": {
      "needs_background": "light"
     },
     "output_type": "display_data"
    }
   ],
   "source": [
    "df_filtered.select(\"Cholesterol\").toPandas().plot.hist()"
   ]
  },
  {
   "cell_type": "code",
   "execution_count": 20,
   "id": "db0c3412",
   "metadata": {},
   "outputs": [],
   "source": [
    "df_filtered = df_filtered.withColumn(\n",
    "    'BPtype',\n",
    "    when(col('RestingBP') <= 120, 0)\n",
    "    .when((col('RestingBP') > 120) & (col('RestingBP') <= 139), 1)\n",
    "    .otherwise(2)\n",
    ")\n",
    "df_filtered = df_filtered.drop('RestingBP')"
   ]
  },
  {
   "cell_type": "code",
   "execution_count": 21,
   "id": "8773af75",
   "metadata": {},
   "outputs": [],
   "source": [
    "df_filtered = df_filtered.withColumn('Age_Cholesterol_rate', col('Cholesterol') * col('Age'))"
   ]
  },
  {
   "cell_type": "code",
   "execution_count": 22,
   "id": "4d0ca5a6",
   "metadata": {},
   "outputs": [
    {
     "name": "stdout",
     "output_type": "stream",
     "text": [
      "+---+---+-------------+-----------+---------+----------+-----+--------------+-------+--------+------------+------+--------------------+\n",
      "|Age|Sex|ChestPainType|Cholesterol|FastingBS|RestingECG|MaxHR|ExerciseAngina|Oldpeak|ST_Slope|HeartDisease|BPtype|Age_Cholesterol_rate|\n",
      "+---+---+-------------+-----------+---------+----------+-----+--------------+-------+--------+------------+------+--------------------+\n",
      "| 40|  1|            2|      289.0|        0|         0|  172|             0|    0.0|       1|           0|     2|             11560.0|\n",
      "| 49|  0|            3|      180.0|        0|         0|  156|             0|    1.0|       2|           1|     2|              8820.0|\n",
      "| 37|  1|            2|      283.0|        0|         1|   98|             0|    0.0|       1|           0|     1|             10471.0|\n",
      "| 48|  0|            4|      214.0|        0|         0|  108|             1|    1.5|       2|           1|     1|             10272.0|\n",
      "| 54|  1|            3|      195.0|        0|         0|  122|             0|    0.0|       1|           0|     2|             10530.0|\n",
      "| 39|  1|            3|      339.0|        0|         0|  170|             0|    0.0|       1|           0|     0|             13221.0|\n",
      "| 45|  0|            2|      237.0|        0|         0|  170|             0|    0.0|       1|           0|     1|             10665.0|\n",
      "| 54|  1|            2|      208.0|        0|         0|  142|             0|    0.0|       1|           0|     0|             11232.0|\n",
      "| 37|  1|            4|      207.0|        0|         0|  130|             1|    1.5|       2|           1|     2|              7659.0|\n",
      "| 48|  0|            2|      284.0|        0|         0|  120|             0|    0.0|       1|           0|     0|             13632.0|\n",
      "| 37|  0|            3|      211.0|        0|         0|  142|             0|    0.0|       1|           0|     1|              7807.0|\n",
      "| 58|  1|            2|      164.0|        0|         1|   99|             1|    2.0|       2|           1|     1|              9512.0|\n",
      "| 39|  1|            2|      204.0|        0|         0|  145|             0|    0.0|       1|           0|     0|              7956.0|\n",
      "| 49|  1|            4|      234.0|        0|         0|  140|             1|    1.0|       2|           1|     2|             11466.0|\n",
      "| 42|  0|            3|      211.0|        0|         1|  137|             0|    0.0|       1|           0|     0|              8862.0|\n",
      "| 54|  0|            2|      273.0|        0|         0|  150|             0|    1.5|       2|           0|     0|             14742.0|\n",
      "| 38|  1|            4|      196.0|        0|         0|  166|             0|    0.0|       2|           1|     0|              7448.0|\n",
      "| 43|  0|            2|      201.0|        0|         0|  165|             0|    0.0|       1|           0|     0|              8643.0|\n",
      "| 60|  1|            4|      248.0|        0|         0|  125|             0|    1.0|       2|           1|     0|             14880.0|\n",
      "| 36|  1|            2|      267.0|        0|         0|  160|             0|    3.0|       2|           1|     0|              9612.0|\n",
      "+---+---+-------------+-----------+---------+----------+-----+--------------+-------+--------+------------+------+--------------------+\n",
      "only showing top 20 rows\n",
      "\n"
     ]
    }
   ],
   "source": [
    "df_filtered.show()"
   ]
  },
  {
   "cell_type": "code",
   "execution_count": 23,
   "id": "09ed8609",
   "metadata": {},
   "outputs": [],
   "source": [
    "from pyspark.ml.feature import OneHotEncoder, VectorAssembler, StringIndexer,VectorSlicer\n",
    "from pyspark.sql.functions import udf\n",
    "from pyspark.ml.linalg import SparseVector, DenseVector\n",
    "from pyspark.sql.types import ArrayType,FloatType, DoubleType, IntegerType\n"
   ]
  },
  {
   "cell_type": "code",
   "execution_count": 24,
   "id": "acc4b4d4",
   "metadata": {},
   "outputs": [
    {
     "name": "stderr",
     "output_type": "stream",
     "text": [
      "                                                                                \r"
     ]
    }
   ],
   "source": [
    "\n",
    "categorical_columns = ['ChestPainType', 'ST_Slope']\n",
    "indexers = [StringIndexer(inputCol=column, outputCol=column+\"_index\").fit(df_filtered) for column in categorical_columns]\n",
    "encoders = [OneHotEncoder(inputCols=[indexer.getOutputCol()], outputCols=[col + \"_vec\"],dropLast=True) for indexer, col in zip(indexers, categorical_columns)]\n"
   ]
  },
  {
   "cell_type": "code",
   "execution_count": 25,
   "id": "7ffd945e",
   "metadata": {},
   "outputs": [
    {
     "name": "stdout",
     "output_type": "stream",
     "text": [
      "['2', '1', '3']\n"
     ]
    }
   ],
   "source": [
    "print(indexers[1].labels)"
   ]
  },
  {
   "cell_type": "code",
   "execution_count": null,
   "id": "a17bea27",
   "metadata": {},
   "outputs": [],
   "source": []
  },
  {
   "cell_type": "code",
   "execution_count": 26,
   "id": "ce2df497",
   "metadata": {},
   "outputs": [],
   "source": [
    "from pyspark.ml import Pipeline\n",
    "\n",
    "pipeline = Pipeline(stages=indexers + encoders)\n",
    "df_encoded = pipeline.fit(df_filtered).transform(df_filtered)\n",
    "selected_cols = [column + \"_vec\" for column in categorical_columns] + df_filtered.columns\n",
    "df_encoded = df_encoded.select(selected_cols)"
   ]
  },
  {
   "cell_type": "code",
   "execution_count": 27,
   "id": "c2bcddb4",
   "metadata": {},
   "outputs": [],
   "source": [
    "def vector_to_list(v):\n",
    "    if isinstance(v, SparseVector):\n",
    "        v = DenseVector(v)\n",
    "    return v.toArray().tolist()\n",
    "\n",
    "vector_to_list_udf = udf(vector_to_list, ArrayType(DoubleType()))"
   ]
  },
  {
   "cell_type": "code",
   "execution_count": 28,
   "id": "bbf80fd8",
   "metadata": {},
   "outputs": [],
   "source": [
    "for column in ['ChestPainType_vec', 'ST_Slope_vec']:\n",
    "    df_encoded = df_encoded.withColumn(column+\"_list\", vector_to_list_udf(col(column)))\n",
    "    num_categories = len(df_encoded.select(column).first()[0])\n",
    "    # Extract individual columns from list\n",
    "    for i in range(num_categories):\n",
    "        df_encoded = df_encoded.withColumn(column+\"_\"+str(i), col(column+\"_list\")[i])"
   ]
  },
  {
   "cell_type": "code",
   "execution_count": 29,
   "id": "353f6e39",
   "metadata": {},
   "outputs": [
    {
     "data": {
      "text/plain": [
       "['ChestPainType_vec',\n",
       " 'ST_Slope_vec',\n",
       " 'Age',\n",
       " 'Sex',\n",
       " 'ChestPainType',\n",
       " 'Cholesterol',\n",
       " 'FastingBS',\n",
       " 'RestingECG',\n",
       " 'MaxHR',\n",
       " 'ExerciseAngina',\n",
       " 'Oldpeak',\n",
       " 'ST_Slope',\n",
       " 'HeartDisease',\n",
       " 'BPtype',\n",
       " 'Age_Cholesterol_rate',\n",
       " 'ChestPainType_vec_list',\n",
       " 'ChestPainType_vec_0',\n",
       " 'ChestPainType_vec_1',\n",
       " 'ChestPainType_vec_2',\n",
       " 'ST_Slope_vec_list',\n",
       " 'ST_Slope_vec_0',\n",
       " 'ST_Slope_vec_1']"
      ]
     },
     "execution_count": 29,
     "metadata": {},
     "output_type": "execute_result"
    }
   ],
   "source": [
    "df_encoded.columns"
   ]
  },
  {
   "cell_type": "code",
   "execution_count": 30,
   "id": "541a4b5f",
   "metadata": {},
   "outputs": [],
   "source": [
    "Columns_to_drop2 =[\"ChestPainType\",'ST_Slope','ChestPainType_vec_list', 'ST_Slope_vec_list','ChestPainType_vec','ST_Slope_vec',]\n",
    "df_encoded=df_encoded.drop(*Columns_to_drop2)\n"
   ]
  },
  {
   "cell_type": "code",
   "execution_count": 31,
   "id": "e87ef6a9",
   "metadata": {},
   "outputs": [
    {
     "name": "stderr",
     "output_type": "stream",
     "text": [
      "\r",
      "[Stage 42:>                                                         (0 + 1) / 1]\r"
     ]
    },
    {
     "name": "stdout",
     "output_type": "stream",
     "text": [
      "+--------------+\n",
      "|ST_Slope_vec_1|\n",
      "+--------------+\n",
      "|           1.0|\n",
      "|           0.0|\n",
      "|           1.0|\n",
      "|           0.0|\n",
      "|           1.0|\n",
      "|           1.0|\n",
      "|           1.0|\n",
      "|           1.0|\n",
      "|           0.0|\n",
      "|           1.0|\n",
      "|           1.0|\n",
      "|           0.0|\n",
      "|           1.0|\n",
      "|           0.0|\n",
      "|           1.0|\n",
      "|           0.0|\n",
      "|           0.0|\n",
      "|           1.0|\n",
      "|           0.0|\n",
      "|           0.0|\n",
      "+--------------+\n",
      "only showing top 20 rows\n",
      "\n"
     ]
    },
    {
     "name": "stderr",
     "output_type": "stream",
     "text": [
      "\r",
      "                                                                                \r"
     ]
    }
   ],
   "source": [
    "df_encoded.select(\"ST_Slope_vec_1\").show()"
   ]
  },
  {
   "cell_type": "code",
   "execution_count": 32,
   "id": "930ec436",
   "metadata": {},
   "outputs": [
    {
     "name": "stderr",
     "output_type": "stream",
     "text": [
      "                                                                                \r"
     ]
    },
    {
     "data": {
      "text/plain": [
       "[('ChestPainType_vec_0', 0.5166678619757027),\n",
       " ('ST_Slope_vec_0', 0.5101184268398316),\n",
       " ('ExerciseAngina', 0.48155609793226906),\n",
       " ('Oldpeak', 0.3986584915876416),\n",
       " ('Sex', 0.30966378262586897),\n",
       " ('Age', 0.2614804309278609),\n",
       " ('FastingBS', 0.21739936041252822),\n",
       " ('Age_Cholesterol_rate', 0.20662252279117013),\n",
       " ('BPtype', 0.12170140121918528),\n",
       " ('Cholesterol', 0.08626636227703617),\n",
       " ('RestingECG', 0.0728399082296723),\n",
       " ('ChestPainType_vec_1', -0.23991745322997685),\n",
       " ('ChestPainType_vec_2', -0.36181067851086307),\n",
       " ('MaxHR', -0.41317265635360617),\n",
       " ('ST_Slope_vec_1', -0.5685304729033728)]"
      ]
     },
     "execution_count": 32,
     "metadata": {},
     "output_type": "execute_result"
    }
   ],
   "source": [
    "\n",
    "correlations = {}\n",
    "for column in df_encoded.columns:\n",
    "    if column != 'HeartDisease' and isinstance(df_encoded.schema[column].dataType, (FloatType, DoubleType, IntegerType)):\n",
    "        corr_value = df_encoded.stat.corr(column, 'HeartDisease')\n",
    "        correlations[column] = corr_value\n",
    "sorted_correlations = sorted(correlations.items(), key=lambda x: x[1], reverse=True)\n",
    "sorted_correlations"
   ]
  },
  {
   "cell_type": "code",
   "execution_count": 33,
   "id": "7ee179df",
   "metadata": {},
   "outputs": [
    {
     "data": {
      "text/plain": [
       "['Age',\n",
       " 'Sex',\n",
       " 'FastingBS',\n",
       " 'MaxHR',\n",
       " 'ExerciseAngina',\n",
       " 'Oldpeak',\n",
       " 'HeartDisease',\n",
       " 'Age_Cholesterol_rate',\n",
       " 'ChestPainType_vec_0',\n",
       " 'ChestPainType_vec_1',\n",
       " 'ChestPainType_vec_2',\n",
       " 'ST_Slope_vec_0',\n",
       " 'ST_Slope_vec_1']"
      ]
     },
     "execution_count": 33,
     "metadata": {},
     "output_type": "execute_result"
    }
   ],
   "source": [
    "columns_drop3 = ['Cholesterol','RestingECG','BPtype']\n",
    "df3 = df_encoded.drop(*columns_drop3)\n",
    "df3.columns"
   ]
  },
  {
   "cell_type": "code",
   "execution_count": 34,
   "id": "7ae8ba35",
   "metadata": {},
   "outputs": [
    {
     "name": "stdout",
     "output_type": "stream",
     "text": [
      "+------------+-----+\n",
      "|HeartDisease|count|\n",
      "+------------+-----+\n",
      "|           1|  627|\n",
      "|           0|  616|\n",
      "+------------+-----+\n",
      "\n"
     ]
    },
    {
     "data": {
      "text/plain": [
       "<AxesSubplot:ylabel='count'>"
      ]
     },
     "execution_count": 34,
     "metadata": {},
     "output_type": "execute_result"
    },
    {
     "data": {
      "image/png": "[encoded data removed]",
      "text/plain": [
       "<Figure size 432x288 with 1 Axes>"
      ]
     },
     "metadata": {},
     "output_type": "display_data"
    }
   ],
   "source": [
    "df3_low = df3.filter(col('HeartDisease') == 0)\n",
    "df3_high = df3.filter(col('HeartDisease') == 1)\n",
    "num_low = df3_low.count()\n",
    "num_high = df3_high.count()\n",
    "\n",
    "df3_low_boosted = df3_low.sample(withReplacement=True, fraction=num_high/num_low)\n",
    "df3_boosted = df3_high.union(df3_low_boosted)\n",
    "df3_boosted.groupBy(\"HeartDisease\").count().show()\n",
    "df4 = df3_boosted\n",
    "\n",
    "df4.groupBy(\"HeartDisease\").count().toPandas().plot.pie(y=\"count\", autopct=\"%1.1f%%\")"
   ]
  },
  {
   "cell_type": "code",
   "execution_count": 35,
   "id": "a5da71f1",
   "metadata": {},
   "outputs": [
    {
     "data": {
      "text/plain": [
       "<AxesSubplot:ylabel='Frequency'>"
      ]
     },
     "execution_count": 35,
     "metadata": {},
     "output_type": "execute_result"
    },
    {
     "data": {
      "image/png": "[encoded data removed]",
      "text/plain": [
       "<Figure size 432x288 with 1 Axes>"
      ]
     },
     "metadata": {
      "needs_background": "light"
     },
     "output_type": "display_data"
    }
   ],
   "source": [
    "df4.select(\"Age_Cholesterol_rate\").toPandas().plot.hist()"
   ]
  },
  {
   "cell_type": "code",
   "execution_count": 36,
   "id": "5e54065d",
   "metadata": {},
   "outputs": [],
   "source": [
    "from pyspark.sql.functions import log\n",
    "df_with_log = df4.withColumn(\"log_Age_Cholesterol_rate\", log(col(\"Age_Cholesterol_rate\")))\n",
    "df5 = df_with_log"
   ]
  },
  {
   "cell_type": "code",
   "execution_count": 37,
   "id": "697c7cff",
   "metadata": {},
   "outputs": [
    {
     "data": {
      "text/plain": [
       "<AxesSubplot:ylabel='Frequency'>"
      ]
     },
     "execution_count": 37,
     "metadata": {},
     "output_type": "execute_result"
    },
    {
     "data": {
      "image/png": "[encoded data removed]",
      "text/plain": [
       "<Figure size 432x288 with 1 Axes>"
      ]
     },
     "metadata": {
      "needs_background": "light"
     },
     "output_type": "display_data"
    }
   ],
   "source": [
    "df5.select(\"log_Age_Cholesterol_rate\").toPandas().plot.hist()"
   ]
  },
  {
   "cell_type": "code",
   "execution_count": 38,
   "id": "b3e36c66",
   "metadata": {},
   "outputs": [],
   "source": [
    "from pyspark.ml.classification import DecisionTreeClassifier,GBTClassifier,RandomForestClassifier\n",
    "from pyspark.ml.evaluation import MulticlassClassificationEvaluator"
   ]
  },
  {
   "cell_type": "code",
   "execution_count": 39,
   "id": "23bdf6da",
   "metadata": {},
   "outputs": [],
   "source": [
    "feature_columns = [col_name for col_name in df5.columns if col_name != 'HeartDisease']  \n",
    "assembler = VectorAssembler(inputCols=feature_columns, outputCol=\"features\")\n",
    "df_assembled = assembler.transform(df5)\n"
   ]
  },
  {
   "cell_type": "code",
   "execution_count": 41,
   "id": "d5ebe31b",
   "metadata": {},
   "outputs": [
    {
     "name": "stderr",
     "output_type": "stream",
     "text": [
      "23/10/06 21:08:13 WARN package: Truncated the string representation of a plan since it was too large. This behavior can be adjusted by setting 'spark.sql.debug.maxToStringFields'.\n"
     ]
    },
    {
     "name": "stdout",
     "output_type": "stream",
     "text": [
      "+---+---+---------+-----+--------------+-------+------------+--------------------+-------------------+-------------------+-------------------+--------------+--------------+------------------------+--------------------+\n",
      "|Age|Sex|FastingBS|MaxHR|ExerciseAngina|Oldpeak|HeartDisease|Age_Cholesterol_rate|ChestPainType_vec_0|ChestPainType_vec_1|ChestPainType_vec_2|ST_Slope_vec_0|ST_Slope_vec_1|log_Age_Cholesterol_rate|            features|\n",
      "+---+---+---------+-----+--------------+-------+------------+--------------------+-------------------+-------------------+-------------------+--------------+--------------+------------------------+--------------------+\n",
      "| 49|  0|        0|  156|             0|    1.0|           1|              8820.0|                0.0|                1.0|                0.0|           1.0|           0.0|       9.084777149000837|(13,[0,3,5,6,8,10...|\n",
      "| 48|  0|        0|  108|             1|    1.5|           1|             10272.0|                1.0|                0.0|                0.0|           1.0|           0.0|       9.237177025929743|[48.0,0.0,0.0,108...|\n",
      "| 37|  1|        0|  130|             1|    1.5|           1|              7659.0|                1.0|                0.0|                0.0|           1.0|           0.0|       8.943636705909594|[37.0,1.0,0.0,130...|\n",
      "| 58|  1|        0|   99|             1|    2.0|           1|              9512.0|                0.0|                0.0|                1.0|           1.0|           0.0|       9.160309438370618|[58.0,1.0,0.0,99....|\n",
      "| 49|  1|        0|  140|             1|    1.0|           1|             11466.0|                1.0|                0.0|                0.0|           1.0|           0.0|       9.347141413468329|[49.0,1.0,0.0,140...|\n",
      "| 38|  1|        0|  166|             0|    0.0|           1|              7448.0|                1.0|                0.0|                0.0|           1.0|           0.0|       8.915700818956903|(13,[0,1,3,6,7,10...|\n",
      "| 60|  1|        0|  125|             0|    1.0|           1|             14880.0|                1.0|                0.0|                0.0|           1.0|           0.0|       9.607773308387083|[60.0,1.0,0.0,125...|\n",
      "| 36|  1|        0|  160|             0|    3.0|           1|              9612.0|                0.0|                0.0|                1.0|           1.0|           0.0|        9.17076759685636|[36.0,1.0,0.0,160...|\n",
      "| 44|  1|        0|  150|             1|    3.0|           1|             12672.0|                0.0|                0.0|                1.0|           1.0|           0.0|       9.447150114054207|[44.0,1.0,0.0,150...|\n",
      "| 53|  1|        0|  130|             0|    0.0|           1|             27454.0|                0.0|                1.0|                0.0|           1.0|           0.0|      10.220267155811605|(13,[0,1,3,6,8,10...|\n",
      "| 54|  1|        0|  122|             0|    2.0|           1|             12096.0|                1.0|                0.0|                0.0|           1.0|           0.0|       9.400630098419315|[54.0,1.0,0.0,122...|\n",
      "| 41|  1|        0|  130|             0|    2.0|           1|              7052.0|                1.0|                0.0|                0.0|           1.0|           0.0|       8.861066543517762|[41.0,1.0,0.0,130...|\n",
      "| 65|  1|        1|   87|             1|    1.5|           1|             19890.0|                1.0|                0.0|                0.0|           1.0|           0.0|       9.897972371848018|[65.0,1.0,1.0,87....|\n",
      "| 54|  0|        0|  100|             1|    0.0|           1|             15876.0|                0.0|                1.0|                0.0|           1.0|           0.0|       9.672563813902956|(13,[0,3,4,6,8,10...|\n",
      "| 43|  1|        0|  120|             1|    1.0|           1|              7525.0|                1.0|                0.0|                0.0|           1.0|           0.0|       8.925986089617076|[43.0,1.0,0.0,120...|\n",
      "| 41|  1|        0|  170|             0|    0.0|           1|             11849.0|                1.0|                0.0|                0.0|           1.0|           0.0|        9.37999875481674|(13,[0,1,3,6,7,10...|\n",
      "| 50|  1|        0|  121|             1|    2.0|           1|             11650.0|                1.0|                0.0|                0.0|           1.0|           0.0|       9.363061458993847|[50.0,1.0,0.0,121...|\n",
      "| 47|  0|        0|   98|             1|    2.0|           1|              9635.0|                1.0|                0.0|                0.0|           1.0|           0.0|       9.173157580848466|[47.0,0.0,0.0,98....|\n",
      "| 31|  1|        0|  153|             1|    1.5|           1|              8370.0|                1.0|                0.0|                0.0|           1.0|           0.0|       9.032409163483521|[31.0,1.0,0.0,153...|\n",
      "| 58|  1|        0|  140|             0|    0.0|           1|             12354.0|                0.0|                1.0|                0.0|           1.0|           0.0|       9.421735176255844|(13,[0,1,3,6,8,10...|\n",
      "+---+---+---------+-----+--------------+-------+------------+--------------------+-------------------+-------------------+-------------------+--------------+--------------+------------------------+--------------------+\n",
      "only showing top 20 rows\n",
      "\n"
     ]
    }
   ],
   "source": [
    "df_assembled.show()"
   ]
  },
  {
   "cell_type": "code",
   "execution_count": 40,
   "id": "69856292",
   "metadata": {},
   "outputs": [],
   "source": [
    "(train_data, test_data) = df_assembled.randomSplit([0.7, 0.3])"
   ]
  },
  {
   "cell_type": "code",
   "execution_count": 41,
   "id": "c89a1061",
   "metadata": {},
   "outputs": [
    {
     "name": "stderr",
     "output_type": "stream",
     "text": [
      "23/10/06 08:26:07 WARN package: Truncated the string representation of a plan since it was too large. This behavior can be adjusted by setting 'spark.sql.debug.maxToStringFields'.\n",
      "                                                                                \r"
     ]
    }
   ],
   "source": [
    "dt_classifier = DecisionTreeClassifier(labelCol=\"HeartDisease\", featuresCol=\"features\")\n",
    "\n",
    "dtc_model = dt_classifier.fit(train_data)\n"
   ]
  },
  {
   "cell_type": "code",
   "execution_count": 42,
   "id": "68b9377c",
   "metadata": {},
   "outputs": [
    {
     "name": "stderr",
     "output_type": "stream",
     "text": [
      "23/10/06 08:26:19 WARN DAGScheduler: Broadcasting large task binary with size 1571.3 KiB\n",
      "23/10/06 08:26:20 WARN DAGScheduler: Broadcasting large task binary with size 2.3 MiB\n",
      "23/10/06 08:26:21 WARN DAGScheduler: Broadcasting large task binary with size 3.0 MiB\n",
      "23/10/06 08:26:22 WARN DAGScheduler: Broadcasting large task binary with size 3.6 MiB\n",
      "23/10/06 08:26:23 WARN DAGScheduler: Broadcasting large task binary with size 4.1 MiB\n",
      "23/10/06 08:26:24 WARN DAGScheduler: Broadcasting large task binary with size 4.3 MiB\n",
      "23/10/06 08:26:25 WARN DAGScheduler: Broadcasting large task binary with size 4.2 MiB\n",
      "23/10/06 08:26:26 WARN DAGScheduler: Broadcasting large task binary with size 3.0 MiB\n",
      "23/10/06 08:26:27 WARN DAGScheduler: Broadcasting large task binary with size 1721.8 KiB\n"
     ]
    }
   ],
   "source": [
    "rt_classifier = RandomForestClassifier(labelCol=\"HeartDisease\", featuresCol=\"features\",numTrees=200, maxDepth=30, minInstancesPerNode=2)\n",
    "rt_model = rt_classifier.fit(train_data)"
   ]
  },
  {
   "cell_type": "code",
   "execution_count": 43,
   "id": "00daf987",
   "metadata": {},
   "outputs": [],
   "source": [
    "rt_pre = rt_model.transform(test_data)"
   ]
  },
  {
   "cell_type": "code",
   "execution_count": 44,
   "id": "e4a3240b",
   "metadata": {},
   "outputs": [
    {
     "name": "stderr",
     "output_type": "stream",
     "text": [
      "23/10/06 08:26:29 WARN DAGScheduler: Broadcasting large task binary with size 2.6 MiB\n",
      "[Stage 130:==========================================>              (3 + 1) / 4]\r"
     ]
    },
    {
     "name": "stdout",
     "output_type": "stream",
     "text": [
      "Random forest Test Accuracy: 0.90\n"
     ]
    },
    {
     "name": "stderr",
     "output_type": "stream",
     "text": [
      "\r",
      "                                                                                \r"
     ]
    }
   ],
   "source": [
    "evaluator2 = MulticlassClassificationEvaluator(labelCol=\"HeartDisease\", predictionCol=\"prediction\", metricName=\"accuracy\")\n",
    "accuracy = evaluator2.evaluate(rt_pre)\n",
    "print(f\"Random forest Test Accuracy: {accuracy:.2f}\")"
   ]
  },
  {
   "cell_type": "code",
   "execution_count": 45,
   "id": "409b936d",
   "metadata": {},
   "outputs": [
    {
     "name": "stderr",
     "output_type": "stream",
     "text": [
      "                                                                                \r"
     ]
    }
   ],
   "source": [
    "gbt_classifier = GBTClassifier(labelCol=\"HeartDisease\", featuresCol=\"features\")\n",
    "dc_classifier = DecisionTreeClassifier(labelCol=\"HeartDisease\", featuresCol=\"features\")\n",
    "gbt_model = gbt_classifier.fit(train_data)\n",
    "dc_model = dc_classifier.fit(train_data)"
   ]
  },
  {
   "cell_type": "code",
   "execution_count": 46,
   "id": "9955a970",
   "metadata": {},
   "outputs": [],
   "source": [
    "gbt_pre = gbt_model.transform(test_data)\n",
    "dc_pre = dc_model.transform(test_data)"
   ]
  },
  {
   "cell_type": "code",
   "execution_count": 47,
   "id": "659b1338",
   "metadata": {},
   "outputs": [
    {
     "name": "stderr",
     "output_type": "stream",
     "text": [
      "23/10/06 08:26:44 WARN InstanceBuilder$NativeBLAS: Failed to load implementation from:dev.ludovic.netlib.blas.JNIBLAS\n",
      "23/10/06 08:26:44 WARN InstanceBuilder$NativeBLAS: Failed to load implementation from:dev.ludovic.netlib.blas.ForeignLinkerBLAS\n"
     ]
    },
    {
     "name": "stdout",
     "output_type": "stream",
     "text": [
      "GBTC Test Accuracy: 0.87\n"
     ]
    }
   ],
   "source": [
    "evaluator_gbt = MulticlassClassificationEvaluator(labelCol=\"HeartDisease\", predictionCol=\"prediction\", metricName=\"accuracy\")\n",
    "accuracy_gbt = evaluator_gbt.evaluate(gbt_pre)\n",
    "print(f\"GBTC Test Accuracy: {accuracy_gbt:.2f}\")"
   ]
  },
  {
   "cell_type": "code",
   "execution_count": 67,
   "id": "83c930aa",
   "metadata": {},
   "outputs": [
    {
     "name": "stdout",
     "output_type": "stream",
     "text": [
      "Decision tree Test Accuracy: 0.83\n"
     ]
    },
    {
     "name": "stderr",
     "output_type": "stream",
     "text": [
      "\r",
      "[Stage 390:============================>                            (2 + 2) / 4]\r",
      "\r",
      "                                                                                \r"
     ]
    }
   ],
   "source": [
    "evaluator_dc = MulticlassClassificationEvaluator(labelCol=\"HeartDisease\", predictionCol=\"prediction\", metricName=\"accuracy\")\n",
    "accuracy_dc = evaluator_dc.evaluate(dc_pre)\n",
    "print(f\"Decision tree Test Accuracy: {accuracy_dc:.2f}\")"
   ]
  },
  {
   "cell_type": "code",
   "execution_count": 49,
   "id": "7a216a56",
   "metadata": {},
   "outputs": [
    {
     "name": "stderr",
     "output_type": "stream",
     "text": [
      "/home/ubuntu/.local/lib/python3.10/site-packages/pyspark/sql/context.py:125: FutureWarning: Deprecated in 3.0.0. Use SparkSession.builder.getOrCreate() instead.\n",
      "  warnings.warn(\n",
      "23/10/06 08:26:45 WARN DAGScheduler: Broadcasting large task binary with size 2.6 MiB\n",
      "23/10/06 08:26:46 WARN DAGScheduler: Broadcasting large task binary with size 2.6 MiB\n",
      "[Stage 358:==========================================>              (3 + 1) / 4]\r"
     ]
    },
    {
     "name": "stdout",
     "output_type": "stream",
     "text": [
      "[[189.  15.]\n",
      " [ 27. 186.]]\n"
     ]
    },
    {
     "name": "stderr",
     "output_type": "stream",
     "text": [
      "\r",
      "                                                                                \r"
     ]
    }
   ],
   "source": [
    "from pyspark.mllib.evaluation import MulticlassMetrics\n",
    "rt_pre = rt_pre.withColumn(\"prediction\", col(\"prediction\").cast(\"double\"))\n",
    "rt_pre = rt_pre.withColumn(\"HeartDisease\", col(\"HeartDisease\").cast(\"double\"))\n",
    "prediction_and_label = rt_pre.select(\"prediction\", \"HeartDisease\").rdd\n",
    "metrics = MulticlassMetrics(prediction_and_label)\n",
    "print(metrics.confusionMatrix().toArray())"
   ]
  },
  {
   "cell_type": "code",
   "execution_count": 50,
   "id": "a4048b15",
   "metadata": {},
   "outputs": [
    {
     "name": "stderr",
     "output_type": "stream",
     "text": [
      "23/10/06 08:26:47 WARN DAGScheduler: Broadcasting large task binary with size 2.6 MiB\n",
      "[Stage 360:============================>                            (2 + 2) / 4]\r"
     ]
    },
    {
     "name": "stdout",
     "output_type": "stream",
     "text": [
      "0.8992805755395683\n"
     ]
    },
    {
     "name": "stderr",
     "output_type": "stream",
     "text": [
      "\r",
      "                                                                                \r"
     ]
    }
   ],
   "source": [
    "from pyspark.ml.evaluation import BinaryClassificationEvaluator\n",
    "evaluator = BinaryClassificationEvaluator(rawPredictionCol=\"rawPrediction\", labelCol=\"label\", metricName=\"areaUnderROC\")\n",
    "roc_auc = evaluator2.evaluate(rt_pre)\n",
    "print(roc_auc)"
   ]
  },
  {
   "cell_type": "code",
   "execution_count": 51,
   "id": "c561319e",
   "metadata": {},
   "outputs": [],
   "source": [
    "importances = rt_model.featureImportances"
   ]
  },
  {
   "cell_type": "code",
   "execution_count": 52,
   "id": "a3d5b580",
   "metadata": {},
   "outputs": [],
   "source": [
    "feature_list = feature_columns"
   ]
  },
  {
   "cell_type": "code",
   "execution_count": 53,
   "id": "a0db208f",
   "metadata": {},
   "outputs": [],
   "source": [
    "importance_list = [importances[i] for i in range(len(feature_list))]"
   ]
  },
  {
   "cell_type": "code",
   "execution_count": 54,
   "id": "4207a890",
   "metadata": {},
   "outputs": [],
   "source": [
    "sorted_features = sorted(zip(feature_list, importance_list), key=lambda x: x[1], reverse=True)"
   ]
  },
  {
   "cell_type": "code",
   "execution_count": 55,
   "id": "767773aa",
   "metadata": {},
   "outputs": [
    {
     "name": "stdout",
     "output_type": "stream",
     "text": [
      "ST_Slope_vec_1: 0.1575804901263893\n",
      "ChestPainType_vec_0: 0.11640809475438696\n",
      "ExerciseAngina: 0.1081423888065742\n",
      "MaxHR: 0.10118406016102449\n",
      "Oldpeak: 0.09357860367137895\n",
      "Age: 0.09338045225089389\n",
      "ST_Slope_vec_0: 0.09184670473862813\n",
      "log_Age_Cholesterol_rate: 0.06751542740096388\n",
      "Age_Cholesterol_rate: 0.06708094311017658\n",
      "Sex: 0.033788368156514426\n",
      "ChestPainType_vec_1: 0.030778514969038998\n",
      "FastingBS: 0.027051173654038977\n",
      "ChestPainType_vec_2: 0.01166477819999109\n"
     ]
    }
   ],
   "source": [
    "for feature, importance in sorted_features:\n",
    "    print(f\"{feature}: {importance}\")"
   ]
  },
  {
   "cell_type": "code",
   "execution_count": 56,
   "id": "cf434189",
   "metadata": {},
   "outputs": [],
   "source": [
    "features, importances = zip(*sorted_features)"
   ]
  },
  {
   "cell_type": "code",
   "execution_count": 57,
   "id": "e9589c0e",
   "metadata": {
    "scrolled": true
   },
   "outputs": [
    {
     "data": {
      "image/png": "[encoded data removed]",
      "text/plain": [
       "<Figure size 1080x720 with 1 Axes>"
      ]
     },
     "metadata": {
      "needs_background": "light"
     },
     "output_type": "display_data"
    }
   ],
   "source": [
    "plt.figure(figsize=(15, 10))\n",
    "plt.barh(features, importances, align='center')\n",
    "plt.xlabel('Importance')\n",
    "plt.ylabel('Feature')\n",
    "plt.title('Feature Importance')\n",
    "plt.gca().invert_yaxis()  \n",
    "plt.show()"
   ]
  },
  {
   "cell_type": "code",
   "execution_count": 58,
   "id": "12a6dde1",
   "metadata": {},
   "outputs": [],
   "source": [
    "from pyspark.sql.functions import when, col, avg\n",
    "import seaborn as sns"
   ]
  },
  {
   "cell_type": "code",
   "execution_count": 63,
   "id": "bfeb45a9",
   "metadata": {},
   "outputs": [],
   "source": [
    "df6 = df5.withColumn(\n",
    "    \"MaxHR_bin\", \n",
    "    when(col(\"MaxHR\") <= 99, \"70-99\")\n",
    "    .when((col(\"MaxHR\") > 99) & (col(\"MaxHR\") <= 129), \"100-129\")\n",
    "    .when((col(\"MaxHR\") > 129) & (col(\"MaxHR\") <= 159), \"130-159\")\n",
    "    .otherwise(\"160+\")\n",
    ")\n",
    "df7 = df5.withColumn(\n",
    "    \"Oldpeak_bin\",\n",
    "    when(col(\"Oldpeak\") <= 0, \"0\")\n",
    "    .when((col(\"Oldpeak\") > 0) & (col(\"Oldpeak\") <= 1), \"0-1\")\n",
    "    .when((col(\"Oldpeak\") > 1) & (col(\"Oldpeak\") <= 2), \"1-2\")\n",
    "    .when((col(\"Oldpeak\") > 2) & (col(\"Oldpeak\") <= 3), \"2-3\")\n",
    "    .otherwise(\"3-6\")\n",
    ")"
   ]
  },
  {
   "cell_type": "code",
   "execution_count": 64,
   "id": "4928cf6f",
   "metadata": {},
   "outputs": [],
   "source": [
    "grouped_data_mhr = df6.groupBy(\"MaxHR_bin\").agg(avg(\"HeartDisease\").alias(\"avg_HeartDisease\"))\n",
    "grouped_data_old = df7.groupBy(\"Oldpeak_bin\").agg(avg(\"HeartDisease\").alias(\"avg_HeartDisease\"))\n",
    "grouped_data_st = df5.groupBy(\"ST_Slope_vec_1\").agg(avg(\"HeartDisease\").alias(\"avg_HeartDisease\"))\n"
   ]
  },
  {
   "cell_type": "code",
   "execution_count": 65,
   "id": "7ad830c3",
   "metadata": {},
   "outputs": [],
   "source": [
    "pdf_mhr = grouped_data_mhr.toPandas()\n",
    "pdf_old = grouped_data_old.orderBy(\"Oldpeak_bin\").toPandas()\n",
    "pdf_st = grouped_data_st.toPandas()"
   ]
  },
  {
   "cell_type": "code",
   "execution_count": 66,
   "id": "c281eeb0",
   "metadata": {},
   "outputs": [
    {
     "data": {
      "image/png": "[encoded data removed]",
      "text/plain": [
       "<Figure size 1080x360 with 3 Axes>"
      ]
     },
     "metadata": {
      "needs_background": "light"
     },
     "output_type": "display_data"
    }
   ],
   "source": [
    "fig, axes = plt.subplots(1, 3, figsize=(15,5))\n",
    "axes[0].bar(pdf_mhr[\"MaxHR_bin\"], pdf_mhr[\"avg_HeartDisease\"], color='skyblue')\n",
    "axes[0].set_title('MaxHR vs HeartDisease')\n",
    "axes[0].set_xlabel('MaxHR_bin')\n",
    "axes[0].set_ylabel('Average HeartDisease')\n",
    "# Oldpeak vs HeartDisease\n",
    "axes[1].bar(pdf_old[\"Oldpeak_bin\"], pdf_old[\"avg_HeartDisease\"], color='lightgreen')\n",
    "axes[1].set_title('Oldpeak vs HeartDisease')\n",
    "axes[1].set_xlabel('Oldpeak_bin')\n",
    "axes[1].set_ylabel('Average HeartDisease')\n",
    "# ST_Slope_vec_1 vs HeartDisease\n",
    "axes[2].bar(pdf_st[\"ST_Slope_vec_1\"].astype(str), pdf_st[\"avg_HeartDisease\"], color='lightcoral')\n",
    "axes[2].set_title('ST_Slope_vec_1 vs HeartDisease')\n",
    "axes[2].set_xlabel('ST_Slope_vec_1')\n",
    "axes[2].set_ylabel('Average HeartDisease')\n",
    "\n",
    "plt.tight_layout()\n",
    "plt.show()"
   ]
  },
  {
   "cell_type": "code",
   "execution_count": null,
   "id": "12433a61",
   "metadata": {},
   "outputs": [],
   "source": []
  },
  {
   "cell_type": "code",
   "execution_count": null,
   "id": "6062f321",
   "metadata": {},
   "outputs": [],
   "source": []
  }
 ],
 "metadata": {
  "kernelspec": {
   "display_name": "Python 3 (ipykernel)",
   "language": "python",
   "name": "python3"
  },
  "language_info": {
   "codemirror_mode": {
    "name": "ipython",
    "version": 3
   },
   "file_extension": ".py",
   "mimetype": "text/x-python",
   "name": "python",
   "nbconvert_exporter": "python",
   "pygments_lexer": "ipython3",
   "version": "3.10.4"
  }
 },
 "nbformat": 4,
 "nbformat_minor": 5
}
